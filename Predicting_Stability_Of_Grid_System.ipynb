{
  "nbformat": 4,
  "nbformat_minor": 0,
  "metadata": {
    "colab": {
      "name": "Predicting Stability Of Grid System.ipynb",
      "provenance": [],
      "collapsed_sections": [],
      "authorship_tag": "ABX9TyO6N2Q3/MFNIs2mTlm72S4e",
      "include_colab_link": true
    },
    "kernelspec": {
      "name": "python3",
      "display_name": "Python 3"
    }
  },
  "cells": [
    {
      "cell_type": "markdown",
      "metadata": {
        "id": "view-in-github",
        "colab_type": "text"
      },
      "source": [
        "<a href=\"https://colab.research.google.com/github/WillDera/Stability_of_the_Grid_System/blob/master/Predicting_Stability_Of_Grid_System.ipynb\" target=\"_parent\"><img src=\"https://colab.research.google.com/assets/colab-badge.svg\" alt=\"Open In Colab\"/></a>"
      ]
    },
    {
      "cell_type": "code",
      "metadata": {
        "id": "U11wD44okVU_",
        "colab_type": "code",
        "colab": {
          "base_uri": "https://localhost:8080/",
          "height": 105
        },
        "outputId": "2e37aef3-2cba-457f-d78d-4bd6cc337f39"
      },
      "source": [
        "import numpy as np\n",
        "import pandas as pd\n",
        "import sklearn.utils\n",
        "from sklearn.preprocessing import LabelEncoder\n",
        "import imblearn\n",
        "from imblearn.over_sampling import SMOTE\n",
        "from sklearn import preprocessing\n",
        "\n",
        "# For our models\n",
        "from sklearn.ensemble import RandomForestClassifier\n",
        "from sklearn.ensemble import ExtraTreesClassifier \n",
        "from xgboost import XGBClassifier\n",
        "from lightgbm import LGBMClassifier "
      ],
      "execution_count": 1,
      "outputs": [
        {
          "output_type": "stream",
          "text": [
            "/usr/local/lib/python3.6/dist-packages/sklearn/externals/six.py:31: FutureWarning: The module is deprecated in version 0.21 and will be removed in version 0.23 since we've dropped support for Python 2.7. Please rely on the official version of six (https://pypi.org/project/six/).\n",
            "  \"(https://pypi.org/project/six/).\", FutureWarning)\n",
            "/usr/local/lib/python3.6/dist-packages/sklearn/utils/deprecation.py:144: FutureWarning: The sklearn.neighbors.base module is  deprecated in version 0.22 and will be removed in version 0.24. The corresponding classes / functions should instead be imported from sklearn.neighbors. Anything that cannot be imported from sklearn.neighbors is now part of the private API.\n",
            "  warnings.warn(message, FutureWarning)\n"
          ],
          "name": "stderr"
        }
      ]
    },
    {
      "cell_type": "code",
      "metadata": {
        "id": "zeoD8Hzlmcnt",
        "colab_type": "code",
        "colab": {
          "base_uri": "https://localhost:8080/",
          "height": 204
        },
        "outputId": "d057f31c-dc02-4155-f721-63509f7f92dd"
      },
      "source": [
        "# reading our dataset\n",
        "df = pd.read_csv('https://archive.ics.uci.edu/ml/machine-learning-databases/00471/Data_for_UCI_named.csv')\n",
        "df.head()"
      ],
      "execution_count": 2,
      "outputs": [
        {
          "output_type": "execute_result",
          "data": {
            "text/html": [
              "<div>\n",
              "<style scoped>\n",
              "    .dataframe tbody tr th:only-of-type {\n",
              "        vertical-align: middle;\n",
              "    }\n",
              "\n",
              "    .dataframe tbody tr th {\n",
              "        vertical-align: top;\n",
              "    }\n",
              "\n",
              "    .dataframe thead th {\n",
              "        text-align: right;\n",
              "    }\n",
              "</style>\n",
              "<table border=\"1\" class=\"dataframe\">\n",
              "  <thead>\n",
              "    <tr style=\"text-align: right;\">\n",
              "      <th></th>\n",
              "      <th>tau1</th>\n",
              "      <th>tau2</th>\n",
              "      <th>tau3</th>\n",
              "      <th>tau4</th>\n",
              "      <th>p1</th>\n",
              "      <th>p2</th>\n",
              "      <th>p3</th>\n",
              "      <th>p4</th>\n",
              "      <th>g1</th>\n",
              "      <th>g2</th>\n",
              "      <th>g3</th>\n",
              "      <th>g4</th>\n",
              "      <th>stab</th>\n",
              "      <th>stabf</th>\n",
              "    </tr>\n",
              "  </thead>\n",
              "  <tbody>\n",
              "    <tr>\n",
              "      <th>0</th>\n",
              "      <td>2.959060</td>\n",
              "      <td>3.079885</td>\n",
              "      <td>8.381025</td>\n",
              "      <td>9.780754</td>\n",
              "      <td>3.763085</td>\n",
              "      <td>-0.782604</td>\n",
              "      <td>-1.257395</td>\n",
              "      <td>-1.723086</td>\n",
              "      <td>0.650456</td>\n",
              "      <td>0.859578</td>\n",
              "      <td>0.887445</td>\n",
              "      <td>0.958034</td>\n",
              "      <td>0.055347</td>\n",
              "      <td>unstable</td>\n",
              "    </tr>\n",
              "    <tr>\n",
              "      <th>1</th>\n",
              "      <td>9.304097</td>\n",
              "      <td>4.902524</td>\n",
              "      <td>3.047541</td>\n",
              "      <td>1.369357</td>\n",
              "      <td>5.067812</td>\n",
              "      <td>-1.940058</td>\n",
              "      <td>-1.872742</td>\n",
              "      <td>-1.255012</td>\n",
              "      <td>0.413441</td>\n",
              "      <td>0.862414</td>\n",
              "      <td>0.562139</td>\n",
              "      <td>0.781760</td>\n",
              "      <td>-0.005957</td>\n",
              "      <td>stable</td>\n",
              "    </tr>\n",
              "    <tr>\n",
              "      <th>2</th>\n",
              "      <td>8.971707</td>\n",
              "      <td>8.848428</td>\n",
              "      <td>3.046479</td>\n",
              "      <td>1.214518</td>\n",
              "      <td>3.405158</td>\n",
              "      <td>-1.207456</td>\n",
              "      <td>-1.277210</td>\n",
              "      <td>-0.920492</td>\n",
              "      <td>0.163041</td>\n",
              "      <td>0.766689</td>\n",
              "      <td>0.839444</td>\n",
              "      <td>0.109853</td>\n",
              "      <td>0.003471</td>\n",
              "      <td>unstable</td>\n",
              "    </tr>\n",
              "    <tr>\n",
              "      <th>3</th>\n",
              "      <td>0.716415</td>\n",
              "      <td>7.669600</td>\n",
              "      <td>4.486641</td>\n",
              "      <td>2.340563</td>\n",
              "      <td>3.963791</td>\n",
              "      <td>-1.027473</td>\n",
              "      <td>-1.938944</td>\n",
              "      <td>-0.997374</td>\n",
              "      <td>0.446209</td>\n",
              "      <td>0.976744</td>\n",
              "      <td>0.929381</td>\n",
              "      <td>0.362718</td>\n",
              "      <td>0.028871</td>\n",
              "      <td>unstable</td>\n",
              "    </tr>\n",
              "    <tr>\n",
              "      <th>4</th>\n",
              "      <td>3.134112</td>\n",
              "      <td>7.608772</td>\n",
              "      <td>4.943759</td>\n",
              "      <td>9.857573</td>\n",
              "      <td>3.525811</td>\n",
              "      <td>-1.125531</td>\n",
              "      <td>-1.845975</td>\n",
              "      <td>-0.554305</td>\n",
              "      <td>0.797110</td>\n",
              "      <td>0.455450</td>\n",
              "      <td>0.656947</td>\n",
              "      <td>0.820923</td>\n",
              "      <td>0.049860</td>\n",
              "      <td>unstable</td>\n",
              "    </tr>\n",
              "  </tbody>\n",
              "</table>\n",
              "</div>"
            ],
            "text/plain": [
              "       tau1      tau2      tau3  ...        g4      stab     stabf\n",
              "0  2.959060  3.079885  8.381025  ...  0.958034  0.055347  unstable\n",
              "1  9.304097  4.902524  3.047541  ...  0.781760 -0.005957    stable\n",
              "2  8.971707  8.848428  3.046479  ...  0.109853  0.003471  unstable\n",
              "3  0.716415  7.669600  4.486641  ...  0.362718  0.028871  unstable\n",
              "4  3.134112  7.608772  4.943759  ...  0.820923  0.049860  unstable\n",
              "\n",
              "[5 rows x 14 columns]"
            ]
          },
          "metadata": {
            "tags": []
          },
          "execution_count": 2
        }
      ]
    },
    {
      "cell_type": "code",
      "metadata": {
        "id": "ucsUWQkaoGf2",
        "colab_type": "code",
        "colab": {
          "base_uri": "https://localhost:8080/",
          "height": 272
        },
        "outputId": "37e8c5c6-94c6-49a3-c076-cd64d043816e"
      },
      "source": [
        "# Checking if we have any null values in the dataset\n",
        "df.isna().sum()"
      ],
      "execution_count": 3,
      "outputs": [
        {
          "output_type": "execute_result",
          "data": {
            "text/plain": [
              "tau1     0\n",
              "tau2     0\n",
              "tau3     0\n",
              "tau4     0\n",
              "p1       0\n",
              "p2       0\n",
              "p3       0\n",
              "p4       0\n",
              "g1       0\n",
              "g2       0\n",
              "g3       0\n",
              "g4       0\n",
              "stab     0\n",
              "stabf    0\n",
              "dtype: int64"
            ]
          },
          "metadata": {
            "tags": []
          },
          "execution_count": 3
        }
      ]
    },
    {
      "cell_type": "code",
      "metadata": {
        "id": "KTVXMqJBov9z",
        "colab_type": "code",
        "colab": {
          "base_uri": "https://localhost:8080/",
          "height": 374
        },
        "outputId": "e9513a6a-d419-43e5-f4ea-1b064ede5ac6"
      },
      "source": [
        "# checking the dtypes of the columns in our dataset\n",
        "df.info()"
      ],
      "execution_count": 4,
      "outputs": [
        {
          "output_type": "stream",
          "text": [
            "<class 'pandas.core.frame.DataFrame'>\n",
            "RangeIndex: 10000 entries, 0 to 9999\n",
            "Data columns (total 14 columns):\n",
            " #   Column  Non-Null Count  Dtype  \n",
            "---  ------  --------------  -----  \n",
            " 0   tau1    10000 non-null  float64\n",
            " 1   tau2    10000 non-null  float64\n",
            " 2   tau3    10000 non-null  float64\n",
            " 3   tau4    10000 non-null  float64\n",
            " 4   p1      10000 non-null  float64\n",
            " 5   p2      10000 non-null  float64\n",
            " 6   p3      10000 non-null  float64\n",
            " 7   p4      10000 non-null  float64\n",
            " 8   g1      10000 non-null  float64\n",
            " 9   g2      10000 non-null  float64\n",
            " 10  g3      10000 non-null  float64\n",
            " 11  g4      10000 non-null  float64\n",
            " 12  stab    10000 non-null  float64\n",
            " 13  stabf   10000 non-null  object \n",
            "dtypes: float64(13), object(1)\n",
            "memory usage: 1.1+ MB\n"
          ],
          "name": "stdout"
        }
      ]
    },
    {
      "cell_type": "code",
      "metadata": {
        "id": "47Tc8Q3Ro9ff",
        "colab_type": "code",
        "colab": {
          "base_uri": "https://localhost:8080/",
          "height": 142
        },
        "outputId": "7704f441-ac25-42c3-9404-4f96a10fa611"
      },
      "source": [
        "# dropping the stab column and getting our new dataset\n",
        "df = df.drop(columns=\"stab\", axis=1)\n",
        "df.head(3)"
      ],
      "execution_count": 5,
      "outputs": [
        {
          "output_type": "execute_result",
          "data": {
            "text/html": [
              "<div>\n",
              "<style scoped>\n",
              "    .dataframe tbody tr th:only-of-type {\n",
              "        vertical-align: middle;\n",
              "    }\n",
              "\n",
              "    .dataframe tbody tr th {\n",
              "        vertical-align: top;\n",
              "    }\n",
              "\n",
              "    .dataframe thead th {\n",
              "        text-align: right;\n",
              "    }\n",
              "</style>\n",
              "<table border=\"1\" class=\"dataframe\">\n",
              "  <thead>\n",
              "    <tr style=\"text-align: right;\">\n",
              "      <th></th>\n",
              "      <th>tau1</th>\n",
              "      <th>tau2</th>\n",
              "      <th>tau3</th>\n",
              "      <th>tau4</th>\n",
              "      <th>p1</th>\n",
              "      <th>p2</th>\n",
              "      <th>p3</th>\n",
              "      <th>p4</th>\n",
              "      <th>g1</th>\n",
              "      <th>g2</th>\n",
              "      <th>g3</th>\n",
              "      <th>g4</th>\n",
              "      <th>stabf</th>\n",
              "    </tr>\n",
              "  </thead>\n",
              "  <tbody>\n",
              "    <tr>\n",
              "      <th>0</th>\n",
              "      <td>2.959060</td>\n",
              "      <td>3.079885</td>\n",
              "      <td>8.381025</td>\n",
              "      <td>9.780754</td>\n",
              "      <td>3.763085</td>\n",
              "      <td>-0.782604</td>\n",
              "      <td>-1.257395</td>\n",
              "      <td>-1.723086</td>\n",
              "      <td>0.650456</td>\n",
              "      <td>0.859578</td>\n",
              "      <td>0.887445</td>\n",
              "      <td>0.958034</td>\n",
              "      <td>unstable</td>\n",
              "    </tr>\n",
              "    <tr>\n",
              "      <th>1</th>\n",
              "      <td>9.304097</td>\n",
              "      <td>4.902524</td>\n",
              "      <td>3.047541</td>\n",
              "      <td>1.369357</td>\n",
              "      <td>5.067812</td>\n",
              "      <td>-1.940058</td>\n",
              "      <td>-1.872742</td>\n",
              "      <td>-1.255012</td>\n",
              "      <td>0.413441</td>\n",
              "      <td>0.862414</td>\n",
              "      <td>0.562139</td>\n",
              "      <td>0.781760</td>\n",
              "      <td>stable</td>\n",
              "    </tr>\n",
              "    <tr>\n",
              "      <th>2</th>\n",
              "      <td>8.971707</td>\n",
              "      <td>8.848428</td>\n",
              "      <td>3.046479</td>\n",
              "      <td>1.214518</td>\n",
              "      <td>3.405158</td>\n",
              "      <td>-1.207456</td>\n",
              "      <td>-1.277210</td>\n",
              "      <td>-0.920492</td>\n",
              "      <td>0.163041</td>\n",
              "      <td>0.766689</td>\n",
              "      <td>0.839444</td>\n",
              "      <td>0.109853</td>\n",
              "      <td>unstable</td>\n",
              "    </tr>\n",
              "  </tbody>\n",
              "</table>\n",
              "</div>"
            ],
            "text/plain": [
              "       tau1      tau2      tau3  ...        g3        g4     stabf\n",
              "0  2.959060  3.079885  8.381025  ...  0.887445  0.958034  unstable\n",
              "1  9.304097  4.902524  3.047541  ...  0.562139  0.781760    stable\n",
              "2  8.971707  8.848428  3.046479  ...  0.839444  0.109853  unstable\n",
              "\n",
              "[3 rows x 13 columns]"
            ]
          },
          "metadata": {
            "tags": []
          },
          "execution_count": 5
        }
      ]
    },
    {
      "cell_type": "code",
      "metadata": {
        "id": "fIhpzR46pXB1",
        "colab_type": "code",
        "colab": {
          "base_uri": "https://localhost:8080/",
          "height": 111
        },
        "outputId": "744adf36-abb6-4084-b098-5e10b4df2950"
      },
      "source": [
        "# encoding the stabf column to 0 and 1 for our model to be able to take in the data.\n",
        "new_df = df\n",
        "new_df.stabf = new_df.stabf.map(dict(unstable=1, stable=0))\n",
        "\n",
        "# Checking our dataset to be sure it looks just how we want it.\n",
        "new_df.head(2)"
      ],
      "execution_count": 6,
      "outputs": [
        {
          "output_type": "execute_result",
          "data": {
            "text/html": [
              "<div>\n",
              "<style scoped>\n",
              "    .dataframe tbody tr th:only-of-type {\n",
              "        vertical-align: middle;\n",
              "    }\n",
              "\n",
              "    .dataframe tbody tr th {\n",
              "        vertical-align: top;\n",
              "    }\n",
              "\n",
              "    .dataframe thead th {\n",
              "        text-align: right;\n",
              "    }\n",
              "</style>\n",
              "<table border=\"1\" class=\"dataframe\">\n",
              "  <thead>\n",
              "    <tr style=\"text-align: right;\">\n",
              "      <th></th>\n",
              "      <th>tau1</th>\n",
              "      <th>tau2</th>\n",
              "      <th>tau3</th>\n",
              "      <th>tau4</th>\n",
              "      <th>p1</th>\n",
              "      <th>p2</th>\n",
              "      <th>p3</th>\n",
              "      <th>p4</th>\n",
              "      <th>g1</th>\n",
              "      <th>g2</th>\n",
              "      <th>g3</th>\n",
              "      <th>g4</th>\n",
              "      <th>stabf</th>\n",
              "    </tr>\n",
              "  </thead>\n",
              "  <tbody>\n",
              "    <tr>\n",
              "      <th>0</th>\n",
              "      <td>2.959060</td>\n",
              "      <td>3.079885</td>\n",
              "      <td>8.381025</td>\n",
              "      <td>9.780754</td>\n",
              "      <td>3.763085</td>\n",
              "      <td>-0.782604</td>\n",
              "      <td>-1.257395</td>\n",
              "      <td>-1.723086</td>\n",
              "      <td>0.650456</td>\n",
              "      <td>0.859578</td>\n",
              "      <td>0.887445</td>\n",
              "      <td>0.958034</td>\n",
              "      <td>1</td>\n",
              "    </tr>\n",
              "    <tr>\n",
              "      <th>1</th>\n",
              "      <td>9.304097</td>\n",
              "      <td>4.902524</td>\n",
              "      <td>3.047541</td>\n",
              "      <td>1.369357</td>\n",
              "      <td>5.067812</td>\n",
              "      <td>-1.940058</td>\n",
              "      <td>-1.872742</td>\n",
              "      <td>-1.255012</td>\n",
              "      <td>0.413441</td>\n",
              "      <td>0.862414</td>\n",
              "      <td>0.562139</td>\n",
              "      <td>0.781760</td>\n",
              "      <td>0</td>\n",
              "    </tr>\n",
              "  </tbody>\n",
              "</table>\n",
              "</div>"
            ],
            "text/plain": [
              "       tau1      tau2      tau3      tau4  ...        g2        g3        g4  stabf\n",
              "0  2.959060  3.079885  8.381025  9.780754  ...  0.859578  0.887445  0.958034      1\n",
              "1  9.304097  4.902524  3.047541  1.369357  ...  0.862414  0.562139  0.781760      0\n",
              "\n",
              "[2 rows x 13 columns]"
            ]
          },
          "metadata": {
            "tags": []
          },
          "execution_count": 6
        }
      ]
    },
    {
      "cell_type": "code",
      "metadata": {
        "id": "P7bXWCQ0s14k",
        "colab_type": "code",
        "colab": {}
      },
      "source": [
        "# preprocessing\n",
        "X = new_df.drop(columns='stabf', axis=1)\n",
        "y = new_df[\"stabf\"]"
      ],
      "execution_count": 7,
      "outputs": []
    },
    {
      "cell_type": "code",
      "metadata": {
        "id": "NkU2kq7zteqx",
        "colab_type": "code",
        "colab": {}
      },
      "source": [
        "# Standardizing the data\n",
        "scaler = preprocessing.StandardScaler()\n",
        "X = scaler.fit_transform(X)"
      ],
      "execution_count": 8,
      "outputs": []
    },
    {
      "cell_type": "code",
      "metadata": {
        "id": "tALrFK3uqa3i",
        "colab_type": "code",
        "colab": {}
      },
      "source": [
        "# Splitting our dataset into train and test sets (80% and 20%)\n",
        "from sklearn.model_selection import train_test_split\n",
        "x_train, x_test, y_train, y_test = train_test_split(X, y, test_size= 0.2, random_state=1)"
      ],
      "execution_count": 9,
      "outputs": []
    },
    {
      "cell_type": "markdown",
      "metadata": {
        "id": "kZb7Bhv_usKI",
        "colab_type": "text"
      },
      "source": [
        "# **Training Models**"
      ]
    },
    {
      "cell_type": "markdown",
      "metadata": {
        "id": "VwZkNsrbuw9I",
        "colab_type": "text"
      },
      "source": [
        "**Random Forest Classifier**"
      ]
    },
    {
      "cell_type": "code",
      "metadata": {
        "id": "kiNLkUf-t9N-",
        "colab_type": "code",
        "colab": {
          "base_uri": "https://localhost:8080/",
          "height": 153
        },
        "outputId": "47603c9e-2261-4b1f-93a6-fc788fdea7e9"
      },
      "source": [
        "rf_clf = RandomForestClassifier(random_state = 1)\n",
        "rf_clf.fit(x_train, y_train)"
      ],
      "execution_count": 10,
      "outputs": [
        {
          "output_type": "execute_result",
          "data": {
            "text/plain": [
              "RandomForestClassifier(bootstrap=True, ccp_alpha=0.0, class_weight=None,\n",
              "                       criterion='gini', max_depth=None, max_features='auto',\n",
              "                       max_leaf_nodes=None, max_samples=None,\n",
              "                       min_impurity_decrease=0.0, min_impurity_split=None,\n",
              "                       min_samples_leaf=1, min_samples_split=2,\n",
              "                       min_weight_fraction_leaf=0.0, n_estimators=100,\n",
              "                       n_jobs=None, oob_score=False, random_state=1, verbose=0,\n",
              "                       warm_start=False)"
            ]
          },
          "metadata": {
            "tags": []
          },
          "execution_count": 10
        }
      ]
    },
    {
      "cell_type": "markdown",
      "metadata": {
        "id": "hxcHPtHIwbzz",
        "colab_type": "text"
      },
      "source": [
        "**Extra Trees Classifier**"
      ]
    },
    {
      "cell_type": "code",
      "metadata": {
        "id": "7HFgVwaPwvej",
        "colab_type": "code",
        "colab": {}
      },
      "source": [
        "n_estimators = [50, 100, 300, 500, 1000]\n",
        "\n",
        "min_samples_split = [2, 3, 5, 7, 9]\n",
        "\n",
        "min_samples_leaf = [1, 2, 4, 6, 8]\n",
        "\n",
        "max_features = ['auto', 'sqrt', 'log2', None] \n",
        "\n",
        "hyperparameter_grid = {'n_estimators': n_estimators,\n",
        "\n",
        "                       'min_samples_leaf': min_samples_leaf,\n",
        "\n",
        "                       'min_samples_split': min_samples_split,\n",
        "\n",
        "                       'max_features': max_features}"
      ],
      "execution_count": 11,
      "outputs": []
    },
    {
      "cell_type": "code",
      "metadata": {
        "id": "sfZCltmPw2Vv",
        "colab_type": "code",
        "colab": {}
      },
      "source": [
        "# We're going to use RandomizedSearchCV to find the optimal parameters for our model\n",
        "from sklearn.model_selection import RandomizedSearchCV"
      ],
      "execution_count": 12,
      "outputs": []
    },
    {
      "cell_type": "code",
      "metadata": {
        "id": "tcZwryVMwYjg",
        "colab_type": "code",
        "colab": {
          "base_uri": "https://localhost:8080/",
          "height": 394
        },
        "outputId": "9b95256e-f9ee-4bb9-df2c-c662949f5315"
      },
      "source": [
        "model = ExtraTreesClassifier(random_state=1)\n",
        "extree_clf = RandomizedSearchCV(estimator=model, param_distributions=hyperparameter_grid, cv=5, n_iter=10, scoring = 'accuracy', n_jobs = -1, verbose = 1)\n",
        "extree_clf.fit(x_train, y_train)\n",
        "\n",
        "print(\"\\n The best estimator across ALL searched params:\\n\", extree_clf.best_estimator_)\n",
        "print(\"\\n The best score across ALL searched params:\", extree_clf.best_score_)\n",
        "print(\"\\n The best parameters across ALL searched params:\\n\", extree_clf.best_params_)"
      ],
      "execution_count": 38,
      "outputs": [
        {
          "output_type": "stream",
          "text": [
            "Fitting 5 folds for each of 10 candidates, totalling 50 fits\n"
          ],
          "name": "stdout"
        },
        {
          "output_type": "stream",
          "text": [
            "[Parallel(n_jobs=-1)]: Using backend LokyBackend with 2 concurrent workers.\n",
            "/usr/local/lib/python3.6/dist-packages/joblib/externals/loky/process_executor.py:691: UserWarning: A worker stopped while some jobs were given to the executor. This can be caused by a too short worker timeout or by a memory leak.\n",
            "  \"timeout or by a memory leak.\", UserWarning\n",
            "[Parallel(n_jobs=-1)]: Done  46 tasks      | elapsed:  1.5min\n",
            "[Parallel(n_jobs=-1)]: Done  50 out of  50 | elapsed:  1.6min finished\n"
          ],
          "name": "stderr"
        },
        {
          "output_type": "stream",
          "text": [
            "\n",
            " The best estimator across ALL searched params:\n",
            " ExtraTreesClassifier(bootstrap=False, ccp_alpha=0.0, class_weight=None,\n",
            "                     criterion='gini', max_depth=None, max_features=None,\n",
            "                     max_leaf_nodes=None, max_samples=None,\n",
            "                     min_impurity_decrease=0.0, min_impurity_split=None,\n",
            "                     min_samples_leaf=4, min_samples_split=3,\n",
            "                     min_weight_fraction_leaf=0.0, n_estimators=500,\n",
            "                     n_jobs=None, oob_score=False, random_state=1, verbose=0,\n",
            "                     warm_start=False)\n",
            "\n",
            " The best score across ALL searched params: 0.92675\n",
            "\n",
            " The best parameters across ALL searched params:\n",
            " {'n_estimators': 500, 'min_samples_split': 3, 'min_samples_leaf': 4, 'max_features': None}\n"
          ],
          "name": "stdout"
        }
      ]
    },
    {
      "cell_type": "markdown",
      "metadata": {
        "id": "LCon9v_dApsP",
        "colab_type": "text"
      },
      "source": [
        "Training a second model with the provided parameters"
      ]
    },
    {
      "cell_type": "code",
      "metadata": {
        "id": "TwxZWOOY7QAn",
        "colab_type": "code",
        "colab": {
          "base_uri": "https://localhost:8080/",
          "height": 153
        },
        "outputId": "f09c2e47-9079-49e6-a127-72a634cab432"
      },
      "source": [
        "extree_clf2 = ExtraTreesClassifier(n_estimators=500, min_samples_split=3, min_samples_leaf=4, max_features=None, random_state=1)\n",
        "extree_clf2.fit(x_train, y_train)"
      ],
      "execution_count": 42,
      "outputs": [
        {
          "output_type": "execute_result",
          "data": {
            "text/plain": [
              "ExtraTreesClassifier(bootstrap=False, ccp_alpha=0.0, class_weight=None,\n",
              "                     criterion='gini', max_depth=None, max_features=None,\n",
              "                     max_leaf_nodes=None, max_samples=None,\n",
              "                     min_impurity_decrease=0.0, min_impurity_split=None,\n",
              "                     min_samples_leaf=4, min_samples_split=3,\n",
              "                     min_weight_fraction_leaf=0.0, n_estimators=500,\n",
              "                     n_jobs=None, oob_score=False, random_state=1, verbose=0,\n",
              "                     warm_start=False)"
            ]
          },
          "metadata": {
            "tags": []
          },
          "execution_count": 42
        }
      ]
    },
    {
      "cell_type": "markdown",
      "metadata": {
        "id": "nGcrQpO50Hp3",
        "colab_type": "text"
      },
      "source": [
        "**XGBoost Classifier**"
      ]
    },
    {
      "cell_type": "code",
      "metadata": {
        "id": "kwePL6Nd0GoJ",
        "colab_type": "code",
        "colab": {
          "base_uri": "https://localhost:8080/",
          "height": 136
        },
        "outputId": "044955e6-72b2-4f89-e7e9-a1aef4f37601"
      },
      "source": [
        "xgbc_clf = XGBClassifier(random_state=1)\n",
        "xgbc_clf.fit(x_train, y_train)"
      ],
      "execution_count": 14,
      "outputs": [
        {
          "output_type": "execute_result",
          "data": {
            "text/plain": [
              "XGBClassifier(base_score=0.5, booster='gbtree', colsample_bylevel=1,\n",
              "              colsample_bynode=1, colsample_bytree=1, gamma=0,\n",
              "              learning_rate=0.1, max_delta_step=0, max_depth=3,\n",
              "              min_child_weight=1, missing=None, n_estimators=100, n_jobs=1,\n",
              "              nthread=None, objective='binary:logistic', random_state=1,\n",
              "              reg_alpha=0, reg_lambda=1, scale_pos_weight=1, seed=None,\n",
              "              silent=None, subsample=1, verbosity=1)"
            ]
          },
          "metadata": {
            "tags": []
          },
          "execution_count": 14
        }
      ]
    },
    {
      "cell_type": "markdown",
      "metadata": {
        "id": "m4jMv0jt0cW4",
        "colab_type": "text"
      },
      "source": [
        "**Lightgbm Classifier**"
      ]
    },
    {
      "cell_type": "code",
      "metadata": {
        "id": "66tuJ-ok0Z-_",
        "colab_type": "code",
        "colab": {
          "base_uri": "https://localhost:8080/",
          "height": 119
        },
        "outputId": "142926ad-bf0c-48c8-f240-f3f80117a1ba"
      },
      "source": [
        "lgbm_clf = LGBMClassifier(random_state=1)\n",
        "lgbm_clf.fit(x_train, y_train)"
      ],
      "execution_count": 15,
      "outputs": [
        {
          "output_type": "execute_result",
          "data": {
            "text/plain": [
              "LGBMClassifier(boosting_type='gbdt', class_weight=None, colsample_bytree=1.0,\n",
              "               importance_type='split', learning_rate=0.1, max_depth=-1,\n",
              "               min_child_samples=20, min_child_weight=0.001, min_split_gain=0.0,\n",
              "               n_estimators=100, n_jobs=-1, num_leaves=31, objective=None,\n",
              "               random_state=1, reg_alpha=0.0, reg_lambda=0.0, silent=True,\n",
              "               subsample=1.0, subsample_for_bin=200000, subsample_freq=0)"
            ]
          },
          "metadata": {
            "tags": []
          },
          "execution_count": 15
        }
      ]
    },
    {
      "cell_type": "markdown",
      "metadata": {
        "id": "T6TGWrU01UY3",
        "colab_type": "text"
      },
      "source": [
        "# **Model Evaluation**"
      ]
    },
    {
      "cell_type": "code",
      "metadata": {
        "id": "avwJargz1xb4",
        "colab_type": "code",
        "colab": {}
      },
      "source": [
        "from sklearn.model_selection import cross_val_predict, cross_val_score\n",
        "from sklearn.metrics import confusion_matrix\n",
        "from sklearn.metrics import precision_score, recall_score, f1_score, accuracy_score"
      ],
      "execution_count": 26,
      "outputs": []
    },
    {
      "cell_type": "markdown",
      "metadata": {
        "id": "wXMvwO1X1Yib",
        "colab_type": "text"
      },
      "source": [
        "***Evaluation: Random Forest***"
      ]
    },
    {
      "cell_type": "code",
      "metadata": {
        "id": "3CsT9vIx1B7r",
        "colab_type": "code",
        "colab": {
          "base_uri": "https://localhost:8080/",
          "height": 51
        },
        "outputId": "08f5f36a-d3c8-493c-c23a-97e302661aaf"
      },
      "source": [
        "# confusion matrix for our random forest classifier\n",
        "rf_pred = cross_val_predict(rf_clf, x_train, y_train, cv=10)\n",
        "cm = confusion_matrix(y_train, rf_pred)\n",
        "cm"
      ],
      "execution_count": 17,
      "outputs": [
        {
          "output_type": "execute_result",
          "data": {
            "text/plain": [
              "array([[2497,  411],\n",
              "       [ 229, 4863]])"
            ]
          },
          "metadata": {
            "tags": []
          },
          "execution_count": 17
        }
      ]
    },
    {
      "cell_type": "code",
      "metadata": {
        "id": "hQU3UreZ36Wm",
        "colab_type": "code",
        "colab": {
          "base_uri": "https://localhost:8080/",
          "height": 119
        },
        "outputId": "73cce195-149f-45f3-f943-8f1459d483d2"
      },
      "source": [
        "# getting the precision, recall and f1 scores of our Random Forest classifier\n",
        "print(\"Random Forest Classifier: \\n\")\n",
        "print(\"Accuracy: \", accuracy_score(y_train, rf_pred)*100)\n",
        "print(\"Precision: \", precision_score(y_train, rf_pred)*100)\n",
        "print(\"Recall: \", recall_score(y_train, rf_pred)*100)\n",
        "print(\"F1-score: \", f1_score(y_train, rf_pred)*100)"
      ],
      "execution_count": 18,
      "outputs": [
        {
          "output_type": "stream",
          "text": [
            "Random Forest Classifier: \n",
            "\n",
            "Accuracy:  92.0\n",
            "Precision:  92.20705346985211\n",
            "Recall:  95.50274941084054\n",
            "F1-score:  93.8259695157245\n"
          ],
          "name": "stdout"
        }
      ]
    },
    {
      "cell_type": "markdown",
      "metadata": {
        "id": "sZqsiuYW5xUW",
        "colab_type": "text"
      },
      "source": [
        "***Evaluation: Extra Trees Classifier***"
      ]
    },
    {
      "cell_type": "code",
      "metadata": {
        "id": "_y95qcyN58FK",
        "colab_type": "code",
        "colab": {
          "base_uri": "https://localhost:8080/",
          "height": 51
        },
        "outputId": "088c56ba-e078-4b9c-f196-7ed1d41b1308"
      },
      "source": [
        "# confusion matrix for our Extra Trees classifier\n",
        "extree_pred = cross_val_predict(extree_clf, x_train, y_train, cv=10)\n",
        "cm = confusion_matrix(y_train, extree_pred)\n",
        "cm"
      ],
      "execution_count": 19,
      "outputs": [
        {
          "output_type": "execute_result",
          "data": {
            "text/plain": [
              "array([[2526,  382],\n",
              "       [ 198, 4894]])"
            ]
          },
          "metadata": {
            "tags": []
          },
          "execution_count": 19
        }
      ]
    },
    {
      "cell_type": "code",
      "metadata": {
        "id": "h2H7vrln6QrD",
        "colab_type": "code",
        "colab": {
          "base_uri": "https://localhost:8080/",
          "height": 119
        },
        "outputId": "f23e198d-55eb-43d8-f946-c9c4a040faa9"
      },
      "source": [
        "# getting the precision, recall and f1 scores of our Extra Trees classifier\n",
        "print(\"Extra Trees Classifier: \\n\")\n",
        "print(\"Accuracy: \", accuracy_score(y_train, extree_pred)*100)\n",
        "print(\"Precision: \", precision_score(y_train, extree_pred)*100)\n",
        "print(\"Recall: \", recall_score(y_train, extree_pred)*100)\n",
        "print(\"F1-score: \", f1_score(y_train, extree_pred)*100)"
      ],
      "execution_count": 20,
      "outputs": [
        {
          "output_type": "stream",
          "text": [
            "Extra Trees Classifier: \n",
            "\n",
            "Accuracy:  92.75\n",
            "Precision:  92.75966641394996\n",
            "Recall:  96.11154752553024\n",
            "F1-score:  94.40586419753086\n"
          ],
          "name": "stdout"
        }
      ]
    },
    {
      "cell_type": "markdown",
      "metadata": {
        "id": "stf-5Zb_8UsS",
        "colab_type": "text"
      },
      "source": [
        "**Getting the accuracy for our second Extra Trees Classifier**"
      ]
    },
    {
      "cell_type": "code",
      "metadata": {
        "id": "bzoPR9nP8auP",
        "colab_type": "code",
        "colab": {
          "base_uri": "https://localhost:8080/",
          "height": 51
        },
        "outputId": "9b742260-2634-4ed6-c369-7479be5bc661"
      },
      "source": [
        "# confusion matrix for our Extra Trees classifier\n",
        "extree_pred2 = cross_val_predict(extree_clf2, x_train, y_train, cv=10)\n",
        "cm = confusion_matrix(y_train, extree_pred2)\n",
        "cm"
      ],
      "execution_count": 43,
      "outputs": [
        {
          "output_type": "execute_result",
          "data": {
            "text/plain": [
              "array([[2528,  380],\n",
              "       [ 203, 4889]])"
            ]
          },
          "metadata": {
            "tags": []
          },
          "execution_count": 43
        }
      ]
    },
    {
      "cell_type": "code",
      "metadata": {
        "id": "FJHP5Au28jKf",
        "colab_type": "code",
        "colab": {
          "base_uri": "https://localhost:8080/",
          "height": 119
        },
        "outputId": "e784412e-59c9-499f-a14c-50d182afbf1b"
      },
      "source": [
        "# getting the precision, recall and f1 scores of our Extra Trees classifier\n",
        "print(\"Extra Trees Classifier: \\n\")\n",
        "print(\"Accuracy: \", accuracy_score(y_train, extree_pred2)*100)\n",
        "print(\"Precision: \", precision_score(y_train, extree_pred2)*100)\n",
        "print(\"Recall: \", recall_score(y_train, extree_pred2)*100)\n",
        "print(\"F1-score: \", f1_score(y_train, extree_pred2)*100)"
      ],
      "execution_count": 44,
      "outputs": [
        {
          "output_type": "stream",
          "text": [
            "Extra Trees Classifier: \n",
            "\n",
            "Accuracy:  92.71249999999999\n",
            "Precision:  92.78800531410135\n",
            "Recall:  96.01335428122545\n",
            "F1-score:  94.3731300067561\n"
          ],
          "name": "stdout"
        }
      ]
    },
    {
      "cell_type": "markdown",
      "metadata": {
        "id": "qntSVHXLARIm",
        "colab_type": "text"
      },
      "source": [
        "***Evaluation: XGBoost Classifier***"
      ]
    },
    {
      "cell_type": "code",
      "metadata": {
        "id": "CO0ZbTMg6Idn",
        "colab_type": "code",
        "colab": {
          "base_uri": "https://localhost:8080/",
          "height": 51
        },
        "outputId": "d4274125-1d9e-4873-ef74-9e02ebca6563"
      },
      "source": [
        "# confusion matrix for our XGBoost classifier\n",
        "xgbc_pred = cross_val_predict(xgbc_clf, x_train, y_train, cv=10)\n",
        "cm = confusion_matrix(y_train, xgbc_pred)\n",
        "cm"
      ],
      "execution_count": 21,
      "outputs": [
        {
          "output_type": "execute_result",
          "data": {
            "text/plain": [
              "array([[2467,  441],\n",
              "       [ 194, 4898]])"
            ]
          },
          "metadata": {
            "tags": []
          },
          "execution_count": 21
        }
      ]
    },
    {
      "cell_type": "code",
      "metadata": {
        "id": "ftSwqTrZAlPd",
        "colab_type": "code",
        "colab": {
          "base_uri": "https://localhost:8080/",
          "height": 119
        },
        "outputId": "9401c85a-f734-42f5-d2c8-b1ffbe359b54"
      },
      "source": [
        "# getting the precision, recall and f1 scores of our XGBoost classifier\n",
        "print(\"XGBoost Classifier: \\n\")\n",
        "print(\"Accuracy: \", accuracy_score(y_train, xgbc_pred)*100)\n",
        "print(\"Precision: \", precision_score(y_train, xgbc_pred)*100)\n",
        "print(\"Recall: \", recall_score(y_train, xgbc_pred)*100)\n",
        "print(\"F1-score: \", f1_score(y_train, xgbc_pred)*100)"
      ],
      "execution_count": 22,
      "outputs": [
        {
          "output_type": "stream",
          "text": [
            "XGBoost Classifier: \n",
            "\n",
            "Accuracy:  92.0625\n",
            "Precision:  91.74002622213898\n",
            "Recall:  96.19010212097407\n",
            "F1-score:  93.9123765698399\n"
          ],
          "name": "stdout"
        }
      ]
    },
    {
      "cell_type": "markdown",
      "metadata": {
        "id": "VSqbcwSxAyo8",
        "colab_type": "text"
      },
      "source": [
        "***Evaluation: LightGBM Classifier***"
      ]
    },
    {
      "cell_type": "code",
      "metadata": {
        "id": "xoZCkPmkAxRG",
        "colab_type": "code",
        "colab": {
          "base_uri": "https://localhost:8080/",
          "height": 51
        },
        "outputId": "b2293235-ac9f-44ef-ea15-5db93b1d375a"
      },
      "source": [
        "# confusion matrix for our LightGBM classifier\n",
        "lgbm_pred = cross_val_predict(lgbm_clf, x_train, y_train, cv=10)\n",
        "cm = confusion_matrix(y_train, lgbm_pred)\n",
        "cm"
      ],
      "execution_count": 23,
      "outputs": [
        {
          "output_type": "execute_result",
          "data": {
            "text/plain": [
              "array([[2634,  274],\n",
              "       [ 193, 4899]])"
            ]
          },
          "metadata": {
            "tags": []
          },
          "execution_count": 23
        }
      ]
    },
    {
      "cell_type": "code",
      "metadata": {
        "id": "IcW9QFXHBAGc",
        "colab_type": "code",
        "colab": {
          "base_uri": "https://localhost:8080/",
          "height": 119
        },
        "outputId": "9f158e8d-3373-4f3e-cc8c-c1e746fc1901"
      },
      "source": [
        "# getting the precision, recall and f1 scores of our LightGBM classifier\n",
        "print(\"LightGBM Classifier: \\n\")\n",
        "print(\"Accuracy: \", accuracy_score(y_train, lgbm_pred)*100)\n",
        "print(\"Precision: \", precision_score(y_train, lgbm_pred)*100)\n",
        "print(\"Recall: \", recall_score(y_train, lgbm_pred)*100)\n",
        "print(\"F1-score: \", f1_score(y_train, lgbm_pred)*100)"
      ],
      "execution_count": 24,
      "outputs": [
        {
          "output_type": "stream",
          "text": [
            "LightGBM Classifier: \n",
            "\n",
            "Accuracy:  94.16250000000001\n",
            "Precision:  94.70326696307751\n",
            "Recall:  96.20974076983504\n",
            "F1-score:  95.45056015586945\n"
          ],
          "name": "stdout"
        }
      ]
    },
    {
      "cell_type": "markdown",
      "metadata": {
        "id": "TkL5vl-FA0t4",
        "colab_type": "text"
      },
      "source": [
        "**Getting accuracy of our models on the testset**"
      ]
    },
    {
      "cell_type": "code",
      "metadata": {
        "id": "oVHsx0HABJrk",
        "colab_type": "code",
        "colab": {
          "base_uri": "https://localhost:8080/",
          "height": 34
        },
        "outputId": "463e1a36-3f61-4ac2-d342-1bc8f7ec0365"
      },
      "source": [
        "rf_pred_predictions = rf_clf.predict(x_test)\n",
        "print(\"Accuracy: \", accuracy_score(y_test, rf_pred_predictions))"
      ],
      "execution_count": 32,
      "outputs": [
        {
          "output_type": "stream",
          "text": [
            "Accuracy:  0.929\n"
          ],
          "name": "stdout"
        }
      ]
    },
    {
      "cell_type": "code",
      "metadata": {
        "id": "xobwevUC4ZNg",
        "colab_type": "code",
        "colab": {
          "base_uri": "https://localhost:8080/",
          "height": 34
        },
        "outputId": "181edc0e-bc75-4ab2-9c6f-5c448c9de040"
      },
      "source": [
        "xgbc_pred_predictions = xgbc_clf.predict(x_test)\n",
        "print(\"Accuracy: \", accuracy_score(y_test, xgbc_pred_predictions))"
      ],
      "execution_count": 33,
      "outputs": [
        {
          "output_type": "stream",
          "text": [
            "Accuracy:  0.9195\n"
          ],
          "name": "stdout"
        }
      ]
    },
    {
      "cell_type": "code",
      "metadata": {
        "id": "LWiU1NnV6IZr",
        "colab_type": "code",
        "colab": {
          "base_uri": "https://localhost:8080/",
          "height": 34
        },
        "outputId": "1f8a37b8-ab74-4cf9-b276-257123f1481f"
      },
      "source": [
        "lgbm_pred_predictions = lgbm_clf.predict(x_test)\n",
        "print(\"Accuracy: \", accuracy_score(y_test, lgbm_pred_predictions))"
      ],
      "execution_count": 34,
      "outputs": [
        {
          "output_type": "stream",
          "text": [
            "Accuracy:  0.9475\n"
          ],
          "name": "stdout"
        }
      ]
    },
    {
      "cell_type": "markdown",
      "metadata": {
        "id": "Kv_VKP3GA55r",
        "colab_type": "text"
      },
      "source": [
        "**Plotting a graph of feature importance for our Extra Trees classifier**"
      ]
    },
    {
      "cell_type": "code",
      "metadata": {
        "id": "6-AJKqbc6M8k",
        "colab_type": "code",
        "colab": {
          "base_uri": "https://localhost:8080/",
          "height": 502
        },
        "outputId": "99ef8199-e15a-4ca7-ce89-a95a09396210"
      },
      "source": [
        "import matplotlib.pyplot as plt\n",
        "importances = extree_clf.feature_importances_\n",
        "std = np.std([tree.feature_importances_ for tree in extree_clf.estimators_],\n",
        "             axis=0)\n",
        "indices = np.argsort(importances)[::-1]\n",
        "\n",
        "# Print the feature ranking\n",
        "print(\"Feature ranking:\")\n",
        "\n",
        "for f in range(X.shape[1]):\n",
        "    print(\"%d. feature %d (%f)\" % (f + 1, indices[f], importances[indices[f]]))\n",
        "\n",
        "# Plot the impurity-based feature importances of the forest\n",
        "plt.figure()\n",
        "plt.title(\"Feature importances\")\n",
        "plt.bar(range(X.shape[1]), importances[indices],\n",
        "        color=\"r\", yerr=std[indices], align=\"center\")\n",
        "plt.xticks(range(X.shape[1]), indices)\n",
        "plt.xlim([-1, X.shape[1]])\n",
        "plt.show()"
      ],
      "execution_count": 46,
      "outputs": [
        {
          "output_type": "stream",
          "text": [
            "Feature ranking:\n",
            "1. feature 1 (0.135057)\n",
            "2. feature 0 (0.133123)\n",
            "3. feature 3 (0.130239)\n",
            "4. feature 2 (0.130151)\n",
            "5. feature 10 (0.111799)\n",
            "6. feature 11 (0.108436)\n",
            "7. feature 9 (0.107800)\n",
            "8. feature 8 (0.102993)\n",
            "9. feature 6 (0.010956)\n",
            "10. feature 5 (0.010876)\n",
            "11. feature 7 (0.010288)\n",
            "12. feature 4 (0.008284)\n"
          ],
          "name": "stdout"
        },
        {
          "output_type": "display_data",
          "data": {
            "image/png": "[encoded data removed]",
            "text/plain": [
              "<Figure size 432x288 with 1 Axes>"
            ]
          },
          "metadata": {
            "tags": [],
            "needs_background": "light"
          }
        }
      ]
    }
  ]
}